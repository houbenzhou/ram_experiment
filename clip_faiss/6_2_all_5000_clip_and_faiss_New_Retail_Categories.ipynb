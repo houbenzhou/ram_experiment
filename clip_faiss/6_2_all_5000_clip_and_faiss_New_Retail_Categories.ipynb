{
 "cells": [
  {
   "cell_type": "markdown",
   "id": "9812f6fd-b048-4831-9a52-7f8c7f1c4bd6",
   "metadata": {},
   "source": [
    "# 测试clip向量化+faiss向量搜索在5037类中的分类能力\n"
   ]
  },
  {
   "cell_type": "code",
   "execution_count": null,
   "id": "9aa5b4f6-7267-461a-ba3c-e8ea24c886ad",
   "metadata": {},
   "outputs": [],
   "source": [
    "import random\n",
    "import time\n",
    "\n",
    "import torch\n",
    "from transformers import CLIPProcessor, CLIPModel, CLIPFeatureExtractor\n",
    "\n",
    "import faiss\n",
    "from PIL import Image\n",
    "import os\n",
    "import json\n",
    "from collections import Counter\n",
    "model = CLIPModel.from_pretrained(\"openai/clip-vit-base-patch32\")\n",
    "processor = CLIPProcessor.from_pretrained(\"openai/clip-vit-base-patch32\")\n",
    "with open('./output_all/id2filename.json', 'r') as json_file:\n",
    "    id2filename = json.load(json_file)\n",
    "index = faiss.read_index(\"./output_all/image.faiss\")"
   ]
  },
  {
   "cell_type": "code",
   "execution_count": null,
   "id": "f610caed-e978-4041-af69-4d4e6b457941",
   "metadata": {},
   "outputs": [],
   "source": [
    "\n",
    "def most_frequent_element(arr):\n",
    "    if not arr:\n",
    "        return None  # 如果数组为空，则返回None\n",
    "    element_count = Counter(arr)\n",
    "    # 获取出现次数最多的元素和它的次数\n",
    "    most_common_element, frequency = element_count.most_common(1)[0]\n",
    "    return most_common_element, frequency\n",
    "\n",
    "def get_random_image_path(directory):\n",
    "    # 存储找到的图片路径\n",
    "    image_paths = []\n",
    "\n",
    "    # os.walk遍历目录和子目录\n",
    "    for root, dirs, files in os.walk(directory):\n",
    "        for file in files:\n",
    "            # 检查文件是否是图片，这里以几种常见图片格式为例\n",
    "            if file.lower().endswith(('.png', '.jpg', '.jpeg', '.bmp', '.gif')):\n",
    "                image_paths.append(os.path.join(root, file))\n",
    "\n",
    "    # 从列表中随机选择一个图片路径\n",
    "    if image_paths:\n",
    "        return random.choice(image_paths)\n",
    "    else:\n",
    "        return None\n",
    "\n",
    "def get_image_path(directory):\n",
    "    # 存储找到的图片路径\n",
    "    image_paths = []\n",
    "\n",
    "    # os.walk遍历目录和子目录\n",
    "    for root, dirs, files in os.walk(directory):\n",
    "        for file in files:\n",
    "            # 检查文件是否是图片，这里以几种常见图片格式为例\n",
    "            if file.lower().endswith(('.png', '.jpg', '.jpeg', '.bmp', '.gif')):\n",
    "                image_paths.append(os.path.join(root, file))\n",
    "\n",
    "    # 从列表中随机选择一个图片路径\n",
    "    return image_paths\n",
    "\n",
    "def get_image_feature(filename: str):\n",
    "    image = Image.open(filename).convert(\"RGB\")\n",
    "    processed = processor(images=image, return_tensors=\"pt\", padding=True, truncation=True)\n",
    "    with torch.no_grad():\n",
    "        image_features = model.get_image_features(pixel_values=processed[\"pixel_values\"])\n",
    "    return image_features\n",
    "\n",
    "\n",
    "def image_search(image, k=1):\n",
    "\n",
    "    inputs = processor(images=image, return_tensors=\"pt\")\n",
    "    image_features = model.get_image_features(**inputs)\n",
    "    image_features = image_features / image_features.norm(p=2, dim=-1, keepdim=True)  # normalize\n",
    "\n",
    "    image_features = image_features.detach().numpy()\n",
    "    D, I = index.search(image_features, k)  # 实际的查询\n",
    "\n",
    "    filenames = [[id2filename[str(j)] for j in i] for i in I]\n",
    "\n",
    "    return img_path, D, filenames\n"
   ]
  },
  {
   "cell_type": "markdown",
   "id": "271499de-e717-4ccf-861f-c1eea8181fb4",
   "metadata": {},
   "source": [
    "# 统计正确分类总个数，图片总个数，正确率，按照查询类别最优指标来计算\n",
    "correct_count: 33608 total_count: 43598 accuracy: 0.7708610486719575"
   ]
  },
  {
   "cell_type": "code",
   "execution_count": null,
   "id": "aa0344f0-a467-4d7c-b943-b5b7fdfe3a7d",
   "metadata": {},
   "outputs": [],
   "source": [
    "base_images=os.getcwd()\n",
    "img_path = os.path.join(base_images,\"data\",\"Trax_bbox出来的小图含label_20230207\")\n",
    "img_paths=get_image_path(img_path)\n",
    "\n",
    "# 统计正确分类总个数，图片总个数，正确率，按照查询类别最优指标来计算\n",
    "correct_count = 0\n",
    "total_count = 0\n",
    "for img_path in img_paths:\n",
    "    image = Image.open(img_path)\n",
    "    start_time = time.time()\n",
    "    img_path, D, filenames = image_search(image, k=4)\n",
    "    total_count=total_count+1\n",
    "    for i in range(len(filenames)):\n",
    "        if filenames[0][0] == filenames[0][1]:\n",
    "            correct_count = correct_count + 1\n",
    "        else:\n",
    "            print(\"img_path:\", img_path, \"true_name:\", filenames[0][0], \"pred_name:\", filenames[0][1])\n",
    "\n",
    "print(\"correct_count:\",correct_count,\"total_count:\",total_count,\"accuracy:\",correct_count/total_count)\n"
   ]
  },
  {
   "cell_type": "markdown",
   "id": "f6511e46-ba59-492f-ae7f-52c24320851f",
   "metadata": {},
   "source": [
    "# 统计正确分类总个数，图片总个数，正确率，按照查询类别最优的三个结果中出现次数最多来计算\n",
    "correct_count: 32877 total_count: 43598 accuracy: 0.7540942245057113"
   ]
  },
  {
   "cell_type": "code",
   "execution_count": null,
   "id": "8508441e-26f3-4259-8b58-554fd790e488",
   "metadata": {},
   "outputs": [],
   "source": [
    "base_images=os.getcwd()\n",
    "img_path = os.path.join(base_images,\"data\",\"Trax_bbox出来的小图含label_20230207\")\n",
    "img_paths=get_image_path(img_path)\n",
    "correct_count = 0\n",
    "total_count = 0\n",
    "for img_path in img_paths:\n",
    "    image = Image.open(img_path)\n",
    "    start_time = time.time()\n",
    "    img_path, D, filenames = image_search(image, k=4)\n",
    "    temp_filenames=filenames[0]\n",
    "    true_name=filenames[0][0]\n",
    "    temp_filenames.pop(0)\n",
    "    total_count=total_count+1\n",
    "    pred_name, freq = most_frequent_element(temp_filenames)\n",
    "    #print(\"true_name:\",true_name,\"pred_name:\",pred_name,\"freq:\",freq)\n",
    "    if true_name == pred_name:\n",
    "        correct_count = correct_count + 1\n",
    "    else:\n",
    "        print(\"img_path:\", img_path, \"true_name:\", true_name, \"pred_name:\", pred_name, \"freq:\", freq)\n",
    "\n",
    "print(\"correct_count:\",correct_count,\"total_count:\",total_count,\"accuracy:\",correct_count/total_count)\n",
    "\n"
   ]
  },
  {
   "cell_type": "code",
   "execution_count": null,
   "id": "7ad6ff41-f641-477c-8b71-33d36f25b1bd",
   "metadata": {},
   "outputs": [],
   "source": []
  },
  {
   "cell_type": "code",
   "execution_count": null,
   "id": "da4eab4a-9a97-4e7b-84e3-bb5e6f0b1932",
   "metadata": {},
   "outputs": [],
   "source": []
  }
 ],
 "metadata": {
  "kernelspec": {
   "display_name": "Python 3 (ipykernel)",
   "language": "python",
   "name": "python3"
  },
  "language_info": {
   "codemirror_mode": {
    "name": "ipython",
    "version": 3
   },
   "file_extension": ".py",
   "mimetype": "text/x-python",
   "name": "python",
   "nbconvert_exporter": "python",
   "pygments_lexer": "ipython3",
   "version": "3.10.14"
  }
 },
 "nbformat": 4,
 "nbformat_minor": 5
}
