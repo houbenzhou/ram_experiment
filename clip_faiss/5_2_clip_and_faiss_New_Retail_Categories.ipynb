{
 "cells": [
  {
   "cell_type": "markdown",
   "id": "9812f6fd-b048-4831-9a52-7f8c7f1c4bd6",
   "metadata": {},
   "source": [
    "# 测试clip向量化+faiss向量搜索在35类中的分类能力\n"
   ]
  },
  {
   "cell_type": "code",
   "execution_count": 1,
   "id": "9aa5b4f6-7267-461a-ba3c-e8ea24c886ad",
   "metadata": {},
   "outputs": [
    {
     "name": "stderr",
     "output_type": "stream",
     "text": [
      "C:\\Users\\houbenzhou\\miniconda3\\envs\\faiss\\lib\\site-packages\\tqdm\\auto.py:21: TqdmWarning: IProgress not found. Please update jupyter and ipywidgets. See https://ipywidgets.readthedocs.io/en/stable/user_install.html\n",
      "  from .autonotebook import tqdm as notebook_tqdm\n"
     ]
    }
   ],
   "source": [
    "import random\n",
    "import time\n",
    "\n",
    "import torch\n",
    "from transformers import CLIPProcessor, CLIPModel, CLIPFeatureExtractor\n",
    "\n",
    "import faiss\n",
    "from PIL import Image\n",
    "import os\n",
    "import json\n",
    "from collections import Counter\n",
    "model = CLIPModel.from_pretrained(\"openai/clip-vit-base-patch32\")\n",
    "processor = CLIPProcessor.from_pretrained(\"openai/clip-vit-base-patch32\")\n",
    "with open('./output/id2filename.json', 'r') as json_file:\n",
    "    id2filename = json.load(json_file)\n",
    "index = faiss.read_index(\"./output/image.faiss\")"
   ]
  },
  {
   "cell_type": "code",
   "execution_count": 2,
   "id": "f610caed-e978-4041-af69-4d4e6b457941",
   "metadata": {},
   "outputs": [],
   "source": [
    "\n",
    "def most_frequent_element(arr):\n",
    "    if not arr:\n",
    "        return None  # 如果数组为空，则返回None\n",
    "    element_count = Counter(arr)\n",
    "    # 获取出现次数最多的元素和它的次数\n",
    "    most_common_element, frequency = element_count.most_common(1)[0]\n",
    "    return most_common_element, frequency\n",
    "\n",
    "def get_random_image_path(directory):\n",
    "    # 存储找到的图片路径\n",
    "    image_paths = []\n",
    "\n",
    "    # os.walk遍历目录和子目录\n",
    "    for root, dirs, files in os.walk(directory):\n",
    "        for file in files:\n",
    "            # 检查文件是否是图片，这里以几种常见图片格式为例\n",
    "            if file.lower().endswith(('.png', '.jpg', '.jpeg', '.bmp', '.gif')):\n",
    "                image_paths.append(os.path.join(root, file))\n",
    "\n",
    "    # 从列表中随机选择一个图片路径\n",
    "    if image_paths:\n",
    "        return random.choice(image_paths)\n",
    "    else:\n",
    "        return None\n",
    "\n",
    "def get_image_path(directory):\n",
    "    # 存储找到的图片路径\n",
    "    image_paths = []\n",
    "\n",
    "    # os.walk遍历目录和子目录\n",
    "    for root, dirs, files in os.walk(directory):\n",
    "        for file in files:\n",
    "            # 检查文件是否是图片，这里以几种常见图片格式为例\n",
    "            if file.lower().endswith(('.png', '.jpg', '.jpeg', '.bmp', '.gif')):\n",
    "                image_paths.append(os.path.join(root, file))\n",
    "\n",
    "    # 从列表中随机选择一个图片路径\n",
    "    return image_paths\n",
    "\n",
    "def get_image_feature(filename: str):\n",
    "    image = Image.open(filename).convert(\"RGB\")\n",
    "    processed = processor(images=image, return_tensors=\"pt\", padding=True, truncation=True)\n",
    "    with torch.no_grad():\n",
    "        image_features = model.get_image_features(pixel_values=processed[\"pixel_values\"])\n",
    "    return image_features\n",
    "\n",
    "\n",
    "def image_search(image, k=1):\n",
    "\n",
    "    inputs = processor(images=image, return_tensors=\"pt\")\n",
    "    image_features = model.get_image_features(**inputs)\n",
    "    image_features = image_features / image_features.norm(p=2, dim=-1, keepdim=True)  # normalize\n",
    "\n",
    "    image_features = image_features.detach().numpy()\n",
    "    D, I = index.search(image_features, k)  # 实际的查询\n",
    "\n",
    "    filenames = [[id2filename[str(j)] for j in i] for i in I]\n",
    "\n",
    "    return img_path, D, filenames\n"
   ]
  },
  {
   "cell_type": "markdown",
   "id": "271499de-e717-4ccf-861f-c1eea8181fb4",
   "metadata": {},
   "source": [
    "# 统计正确分类总个数，图片总个数，正确率，按照查询类别最优指标来计算\n",
    "correct_count: 363 total_count: 387 accuracy: 0.937984496124031"
   ]
  },
  {
   "cell_type": "code",
   "execution_count": 6,
   "id": "aa0344f0-a467-4d7c-b943-b5b7fdfe3a7d",
   "metadata": {},
   "outputs": [
    {
     "name": "stdout",
     "output_type": "stream",
     "text": [
      "img_path: E:\\workspaces\\2_temp_projects\\RealMan_AI_Lab\\Recognize-Anything-Box1\\Classifer_Anything\\latent_features\\data\\新零售图片数据_Trax_部分\\(复)特慧优食品保鲜膜(免刀切抑菌型)30cm宽X150米\\1674956159942_1_2016.5_2805.5_333.0_141.0_0.0.jpg true_name: (复)特慧优食品保鲜膜(免刀切抑菌型)30cm宽X150米 pred_name: 5酸甜迷你弹立方山楂金桔酸梅混合味30G\n",
      "img_path: E:\\workspaces\\2_temp_projects\\RealMan_AI_Lab\\Recognize-Anything-Box1\\Classifer_Anything\\latent_features\\data\\新零售图片数据_Trax_部分\\5酸甜迷你弹立方山楂金桔酸梅混合味30G\\1674957227281_2_1361.0_3151.0_248.0_336.0_0.0.jpg true_name: 5酸甜迷你弹立方山楂金桔酸梅混合味30G pred_name: 5酸甜迷你弹立方苹果芒果浆果混合味30G\n",
      "img_path: E:\\workspaces\\2_temp_projects\\RealMan_AI_Lab\\Recognize-Anything-Box1\\Classifer_Anything\\latent_features\\data\\新零售图片数据_Trax_部分\\5酸甜迷你弹立方山楂金桔酸梅混合味30G\\1674957227485_3_1340.5_1163.0_247.0_200.0_0.0.jpg true_name: 5酸甜迷你弹立方山楂金桔酸梅混合味30G pred_name: 5酸甜迷你弹立方苹果芒果浆果混合味30G\n",
      "img_path: E:\\workspaces\\2_temp_projects\\RealMan_AI_Lab\\Recognize-Anything-Box1\\Classifer_Anything\\latent_features\\data\\新零售图片数据_Trax_部分\\5酸甜迷你弹立方苹果芒果浆果混合味30G\\1674957218130_2_2088.5_3109.0_221.0_306.0_0.0.jpg true_name: 5酸甜迷你弹立方苹果芒果浆果混合味30G pred_name: 5酸甜迷你弹立方山楂金桔酸梅混合味30G\n",
      "img_path: E:\\workspaces\\2_temp_projects\\RealMan_AI_Lab\\Recognize-Anything-Box1\\Classifer_Anything\\latent_features\\data\\新零售图片数据_Trax_部分\\5酸甜迷你弹立方苹果芒果浆果混合味30G\\1674957218270_3_2076.0_1214.0_228.0_206.0_0.0.jpg true_name: 5酸甜迷你弹立方苹果芒果浆果混合味30G pred_name: 5酸甜迷你弹立方山楂金桔酸梅混合味30G\n",
      "img_path: E:\\workspaces\\2_temp_projects\\RealMan_AI_Lab\\Recognize-Anything-Box1\\Classifer_Anything\\latent_features\\data\\新零售图片数据_Trax_部分\\仲景上海葱油230G\\1674952678011_2_2522.5_2600.0_105.0_200.0_0.0.jpg true_name: 仲景上海葱油230G pred_name: 兆字芝麻酱200G\n",
      "img_path: E:\\workspaces\\2_temp_projects\\RealMan_AI_Lab\\Recognize-Anything-Box1\\Classifer_Anything\\latent_features\\data\\新零售图片数据_Trax_部分\\味之素魔厨高汤复合调味料150G\\1674953357294_1_2459.0_3169.5_192.0_203.0_0.0.jpg true_name: 味之素魔厨高汤复合调味料150G pred_name: 仲景上海葱油230G\n",
      "img_path: E:\\workspaces\\2_temp_projects\\RealMan_AI_Lab\\Recognize-Anything-Box1\\Classifer_Anything\\latent_features\\data\\新零售图片数据_Trax_部分\\味之素魔厨高汤复合调味料150G\\1674953368258_0_767.5_4376.5_233.0_333.0_0.0.jpg true_name: 味之素魔厨高汤复合调味料150G pred_name: 兆字芝麻酱200G\n",
      "img_path: E:\\workspaces\\2_temp_projects\\RealMan_AI_Lab\\Recognize-Anything-Box1\\Classifer_Anything\\latent_features\\data\\新零售图片数据_Trax_部分\\味之素魔厨高汤复合调味料150G\\1674953368484_1_119.5_3153.5_221.0_173.0_0.0.jpg true_name: 味之素魔厨高汤复合调味料150G pred_name: 兆字芝麻酱200G\n",
      "img_path: E:\\workspaces\\2_temp_projects\\RealMan_AI_Lab\\Recognize-Anything-Box1\\Classifer_Anything\\latent_features\\data\\新零售图片数据_Trax_部分\\味岛方便食品香菇菠菜汤5G\\1674953378927_2_2394.5_3383.0_251.0_384.0_0.0.jpg true_name: 味岛方便食品香菇菠菜汤5G pred_name: 竹笙豆腐味噌汤19G\n",
      "img_path: E:\\workspaces\\2_temp_projects\\RealMan_AI_Lab\\Recognize-Anything-Box1\\Classifer_Anything\\latent_features\\data\\新零售图片数据_Trax_部分\\味岛方便食品香菇菠菜汤5G\\1674953379049_3_2080.5_2167.5_235.0_181.0_0.0.jpg true_name: 味岛方便食品香菇菠菜汤5G pred_name: 味之素魔厨高汤复合调味料150G\n",
      "img_path: E:\\workspaces\\2_temp_projects\\RealMan_AI_Lab\\Recognize-Anything-Box1\\Classifer_Anything\\latent_features\\data\\新零售图片数据_Trax_部分\\味岛方便食品香菇菠菜汤5G\\1674953379049_3_2082.0_1937.5_182.0_243.0_0.0.jpg true_name: 味岛方便食品香菇菠菜汤5G pred_name: 味之素魔厨高汤复合调味料150G\n",
      "img_path: E:\\workspaces\\2_temp_projects\\RealMan_AI_Lab\\Recognize-Anything-Box1\\Classifer_Anything\\latent_features\\data\\新零售图片数据_Trax_部分\\味达美臻品耗油510G\\1674952762054_2_2995.5_1727.0_251.0_944.0_0.0.jpg true_name: 味达美臻品耗油510G pred_name: 淘大头道鲜生抽500ML\n",
      "img_path: E:\\workspaces\\2_temp_projects\\RealMan_AI_Lab\\Recognize-Anything-Box1\\Classifer_Anything\\latent_features\\data\\新零售图片数据_Trax_部分\\希宝精选鲣鱼猫粮罐头75G\\1674955998616_2_1446.0_1973.5_218.0_73.0_0.0.jpg true_name: 希宝精选鲣鱼猫粮罐头75G pred_name: 味之素魔厨高汤复合调味料150G\n",
      "img_path: E:\\workspaces\\2_temp_projects\\RealMan_AI_Lab\\Recognize-Anything-Box1\\Classifer_Anything\\latent_features\\data\\新零售图片数据_Trax_部分\\希宝精选鲣鱼猫粮罐头75G\\1674955998637_1_1431.0_3081.0_210.0_100.0_0.0.jpg true_name: 希宝精选鲣鱼猫粮罐头75G pred_name: 仲景上海葱油230G\n",
      "img_path: E:\\workspaces\\2_temp_projects\\RealMan_AI_Lab\\Recognize-Anything-Box1\\Classifer_Anything\\latent_features\\data\\新零售图片数据_Trax_部分\\希宝精选鲣鱼猫粮罐头75G\\1674955998637_1_2340.5_3503.0_207.0_188.0_0.0.jpg true_name: 希宝精选鲣鱼猫粮罐头75G pred_name: 希宝金罐鸡肉及胡萝卜青豆罐头85G\n",
      "img_path: E:\\workspaces\\2_temp_projects\\RealMan_AI_Lab\\Recognize-Anything-Box1\\Classifer_Anything\\latent_features\\data\\新零售图片数据_Trax_部分\\希宝精选鲣鱼猫粮罐头75G\\1674955998835_0_1510.0_4301.0_212.0_190.0_0.0.jpg true_name: 希宝精选鲣鱼猫粮罐头75G pred_name: 味之素魔厨高汤复合调味料150G\n",
      "img_path: E:\\workspaces\\2_temp_projects\\RealMan_AI_Lab\\Recognize-Anything-Box1\\Classifer_Anything\\latent_features\\data\\新零售图片数据_Trax_部分\\希宝金罐鸡肉及胡萝卜青豆罐头85G\\1674955998637_1_1491.5_2330.0_157.0_128.0_0.0.jpg true_name: 希宝金罐鸡肉及胡萝卜青豆罐头85G pred_name: 仲景上海葱油230G\n",
      "img_path: E:\\workspaces\\2_temp_projects\\RealMan_AI_Lab\\Recognize-Anything-Box1\\Classifer_Anything\\latent_features\\data\\新零售图片数据_Trax_部分\\希宝金罐鸡肉及胡萝卜青豆罐头85G\\1674955998835_0_1529.5_3703.5_201.0_201.0_0.0.jpg true_name: 希宝金罐鸡肉及胡萝卜青豆罐头85G pred_name: 淘大柱候酱复合调味料235G\n",
      "img_path: E:\\workspaces\\2_temp_projects\\RealMan_AI_Lab\\Recognize-Anything-Box1\\Classifer_Anything\\latent_features\\data\\新零售图片数据_Trax_部分\\希宝金罐鸡肉及胡萝卜青豆罐头85G\\1674955998835_0_2564.5_2968.5_215.0_157.0_0.0.jpg true_name: 希宝金罐鸡肉及胡萝卜青豆罐头85G pred_name: 希宝精选鲣鱼猫粮罐头75G\n",
      "img_path: E:\\workspaces\\2_temp_projects\\RealMan_AI_Lab\\Recognize-Anything-Box1\\Classifer_Anything\\latent_features\\data\\新零售图片数据_Trax_部分\\我的年轻味道花果茶水蜜桃味125G\\1674952718180_2_1163.0_3548.0_230.0_678.0_0.0.jpg true_name: 我的年轻味道花果茶水蜜桃味125G pred_name: 味之素魔厨高汤复合调味料150G\n",
      "img_path: E:\\workspaces\\2_temp_projects\\RealMan_AI_Lab\\Recognize-Anything-Box1\\Classifer_Anything\\latent_features\\data\\新零售图片数据_Trax_部分\\淘大头道鲜生抽500ML\\1674953118606_1_3375.0_3741.5_230.0_953.0_0.0.jpg true_name: 淘大头道鲜生抽500ML pred_name: 味之素魔厨高汤复合调味料150G\n",
      "img_path: E:\\workspaces\\2_temp_projects\\RealMan_AI_Lab\\Recognize-Anything-Box1\\Classifer_Anything\\latent_features\\data\\新零售图片数据_Trax_部分\\淘大头道鲜生抽500ML\\1674953129215_3_786.0_522.5_248.0_785.0_0.0.jpg true_name: 淘大头道鲜生抽500ML pred_name: 味达美臻品耗油510G\n",
      "img_path: E:\\workspaces\\2_temp_projects\\RealMan_AI_Lab\\Recognize-Anything-Box1\\Classifer_Anything\\latent_features\\data\\新零售图片数据_Trax_部分\\淘大柱候酱复合调味料235G\\1674952698258_1_345.0_2229.5_192.0_151.0_0.0.jpg true_name: 淘大柱候酱复合调味料235G pred_name: 兆字芝麻酱200G\n",
      "correct_count: 363 total_count: 387 accuracy: 0.937984496124031\n"
     ]
    }
   ],
   "source": [
    "base_images=os.getcwd()\n",
    "img_path = os.path.join(base_images,\"data\",\"新零售图片数据_Trax_部分\")\n",
    "img_paths=get_image_path(img_path)\n",
    "\n",
    "# 统计正确分类总个数，图片总个数，正确率，按照查询类别最优指标来计算\n",
    "correct_count = 0\n",
    "total_count = 0\n",
    "for img_path in img_paths:\n",
    "    image = Image.open(img_path)\n",
    "    start_time = time.time()\n",
    "    img_path, D, filenames = image_search(image, k=4)\n",
    "    total_count=total_count+1\n",
    "    for i in range(len(filenames)):\n",
    "        if filenames[0][0] == filenames[0][1]:\n",
    "            correct_count = correct_count + 1\n",
    "        else:\n",
    "            print(\"img_path:\", img_path, \"true_name:\", filenames[0][0], \"pred_name:\", filenames[0][1])\n",
    "\n",
    "print(\"correct_count:\",correct_count,\"total_count:\",total_count,\"accuracy:\",correct_count/total_count)\n"
   ]
  },
  {
   "cell_type": "markdown",
   "id": "f6511e46-ba59-492f-ae7f-52c24320851f",
   "metadata": {},
   "source": [
    "# 统计正确分类总个数，图片总个数，正确率，按照查询类别最优的三个结果中出现次数最多来计算\n",
    "correct_count: 357 total_count: 387 accuracy: 0.9224806201550387"
   ]
  },
  {
   "cell_type": "code",
   "execution_count": 7,
   "id": "8508441e-26f3-4259-8b58-554fd790e488",
   "metadata": {},
   "outputs": [
    {
     "name": "stdout",
     "output_type": "stream",
     "text": [
      "img_path: E:\\workspaces\\2_temp_projects\\RealMan_AI_Lab\\Recognize-Anything-Box1\\Classifer_Anything\\latent_features\\data\\新零售图片数据_Trax_部分\\(复)特慧优牛轧糖(蔓越莓味)300G\\1674957627602_3_2483.5_1691.0_1053.0_1046.0_0.0.jpg true_name: (复)特慧优牛轧糖(蔓越莓味)300G pred_name: (复)特慧优牛轧糖(抹茶味)300G freq: 2\n",
      "img_path: E:\\workspaces\\2_temp_projects\\RealMan_AI_Lab\\Recognize-Anything-Box1\\Classifer_Anything\\latent_features\\data\\新零售图片数据_Trax_部分\\(复)特慧优牛轧糖(蔓越莓味)300G\\1674957634080_2_2199.5_3544.5_1029.0_991.0_0.0.jpg true_name: (复)特慧优牛轧糖(蔓越莓味)300G pred_name: (复)特慧优牛轧糖(抹茶味)300G freq: 2\n",
      "img_path: E:\\workspaces\\2_temp_projects\\RealMan_AI_Lab\\Recognize-Anything-Box1\\Classifer_Anything\\latent_features\\data\\新零售图片数据_Trax_部分\\(复)特慧优牛轧糖(蔓越莓味)300G\\1674957634497_3_2214.5_1695.0_1041.0_1056.0_0.0.jpg true_name: (复)特慧优牛轧糖(蔓越莓味)300G pred_name: (复)特慧优牛轧糖(抹茶味)300G freq: 2\n",
      "img_path: E:\\workspaces\\2_temp_projects\\RealMan_AI_Lab\\Recognize-Anything-Box1\\Classifer_Anything\\latent_features\\data\\新零售图片数据_Trax_部分\\(复)特慧优食品保鲜膜(免刀切抑菌型)30cm宽X150米\\1674956159942_1_2016.5_2805.5_333.0_141.0_0.0.jpg true_name: (复)特慧优食品保鲜膜(免刀切抑菌型)30cm宽X150米 pred_name: 5酸甜迷你弹立方山楂金桔酸梅混合味30G freq: 1\n",
      "img_path: E:\\workspaces\\2_temp_projects\\RealMan_AI_Lab\\Recognize-Anything-Box1\\Classifer_Anything\\latent_features\\data\\新零售图片数据_Trax_部分\\5酸甜迷你弹立方山楂金桔酸梅混合味30G\\1674957227281_2_1026.0_3158.5_290.0_293.0_0.0.jpg true_name: 5酸甜迷你弹立方山楂金桔酸梅混合味30G pred_name: 5酸甜迷你弹立方苹果芒果浆果混合味30G freq: 2\n",
      "img_path: E:\\workspaces\\2_temp_projects\\RealMan_AI_Lab\\Recognize-Anything-Box1\\Classifer_Anything\\latent_features\\data\\新零售图片数据_Trax_部分\\5酸甜迷你弹立方山楂金桔酸梅混合味30G\\1674957227281_2_1361.0_3151.0_248.0_336.0_0.0.jpg true_name: 5酸甜迷你弹立方山楂金桔酸梅混合味30G pred_name: 5酸甜迷你弹立方苹果芒果浆果混合味30G freq: 3\n",
      "img_path: E:\\workspaces\\2_temp_projects\\RealMan_AI_Lab\\Recognize-Anything-Box1\\Classifer_Anything\\latent_features\\data\\新零售图片数据_Trax_部分\\5酸甜迷你弹立方山楂金桔酸梅混合味30G\\1674957227485_3_1340.5_1163.0_247.0_200.0_0.0.jpg true_name: 5酸甜迷你弹立方山楂金桔酸梅混合味30G pred_name: 5酸甜迷你弹立方苹果芒果浆果混合味30G freq: 1\n",
      "img_path: E:\\workspaces\\2_temp_projects\\RealMan_AI_Lab\\Recognize-Anything-Box1\\Classifer_Anything\\latent_features\\data\\新零售图片数据_Trax_部分\\5酸甜迷你弹立方苹果芒果浆果混合味30G\\1674957218270_3_2076.0_1214.0_228.0_206.0_0.0.jpg true_name: 5酸甜迷你弹立方苹果芒果浆果混合味30G pred_name: 5酸甜迷你弹立方山楂金桔酸梅混合味30G freq: 1\n",
      "img_path: E:\\workspaces\\2_temp_projects\\RealMan_AI_Lab\\Recognize-Anything-Box1\\Classifer_Anything\\latent_features\\data\\新零售图片数据_Trax_部分\\味之素魔厨高汤复合调味料150G\\1674953357294_1_2459.0_3169.5_192.0_203.0_0.0.jpg true_name: 味之素魔厨高汤复合调味料150G pred_name: 仲景上海葱油230G freq: 2\n",
      "img_path: E:\\workspaces\\2_temp_projects\\RealMan_AI_Lab\\Recognize-Anything-Box1\\Classifer_Anything\\latent_features\\data\\新零售图片数据_Trax_部分\\味之素魔厨高汤复合调味料150G\\1674953368258_0_767.5_4376.5_233.0_333.0_0.0.jpg true_name: 味之素魔厨高汤复合调味料150G pred_name: 兆字芝麻酱200G freq: 1\n",
      "img_path: E:\\workspaces\\2_temp_projects\\RealMan_AI_Lab\\Recognize-Anything-Box1\\Classifer_Anything\\latent_features\\data\\新零售图片数据_Trax_部分\\味之素魔厨高汤复合调味料150G\\1674953368484_1_119.5_3153.5_221.0_173.0_0.0.jpg true_name: 味之素魔厨高汤复合调味料150G pred_name: 兆字芝麻酱200G freq: 1\n",
      "img_path: E:\\workspaces\\2_temp_projects\\RealMan_AI_Lab\\Recognize-Anything-Box1\\Classifer_Anything\\latent_features\\data\\新零售图片数据_Trax_部分\\味岛方便食品香菇菠菜汤5G\\1674953378927_2_2394.5_3383.0_251.0_384.0_0.0.jpg true_name: 味岛方便食品香菇菠菜汤5G pred_name: 竹笙豆腐味噌汤19G freq: 3\n",
      "img_path: E:\\workspaces\\2_temp_projects\\RealMan_AI_Lab\\Recognize-Anything-Box1\\Classifer_Anything\\latent_features\\data\\新零售图片数据_Trax_部分\\味岛方便食品香菇菠菜汤5G\\1674953379049_3_2080.5_2167.5_235.0_181.0_0.0.jpg true_name: 味岛方便食品香菇菠菜汤5G pred_name: 味之素魔厨高汤复合调味料150G freq: 2\n",
      "img_path: E:\\workspaces\\2_temp_projects\\RealMan_AI_Lab\\Recognize-Anything-Box1\\Classifer_Anything\\latent_features\\data\\新零售图片数据_Trax_部分\\味岛方便食品香菇菠菜汤5G\\1674953379049_3_2082.0_1937.5_182.0_243.0_0.0.jpg true_name: 味岛方便食品香菇菠菜汤5G pred_name: 味之素魔厨高汤复合调味料150G freq: 1\n",
      "img_path: E:\\workspaces\\2_temp_projects\\RealMan_AI_Lab\\Recognize-Anything-Box1\\Classifer_Anything\\latent_features\\data\\新零售图片数据_Trax_部分\\味达美臻品耗油510G\\1674952762054_2_2995.5_1727.0_251.0_944.0_0.0.jpg true_name: 味达美臻品耗油510G pred_name: 淘大头道鲜生抽500ML freq: 3\n",
      "img_path: E:\\workspaces\\2_temp_projects\\RealMan_AI_Lab\\Recognize-Anything-Box1\\Classifer_Anything\\latent_features\\data\\新零售图片数据_Trax_部分\\希宝精选鲣鱼猫粮罐头75G\\1674955998616_2_1439.5_1890.5_225.0_129.0_0.0.jpg true_name: 希宝精选鲣鱼猫粮罐头75G pred_name: 希宝金罐鸡肉及胡萝卜青豆罐头85G freq: 2\n",
      "img_path: E:\\workspaces\\2_temp_projects\\RealMan_AI_Lab\\Recognize-Anything-Box1\\Classifer_Anything\\latent_features\\data\\新零售图片数据_Trax_部分\\希宝精选鲣鱼猫粮罐头75G\\1674955998616_2_1446.0_1973.5_218.0_73.0_0.0.jpg true_name: 希宝精选鲣鱼猫粮罐头75G pred_name: 味之素魔厨高汤复合调味料150G freq: 3\n",
      "img_path: E:\\workspaces\\2_temp_projects\\RealMan_AI_Lab\\Recognize-Anything-Box1\\Classifer_Anything\\latent_features\\data\\新零售图片数据_Trax_部分\\希宝精选鲣鱼猫粮罐头75G\\1674955998637_1_1431.0_3081.0_210.0_100.0_0.0.jpg true_name: 希宝精选鲣鱼猫粮罐头75G pred_name: 仲景上海葱油230G freq: 1\n",
      "img_path: E:\\workspaces\\2_temp_projects\\RealMan_AI_Lab\\Recognize-Anything-Box1\\Classifer_Anything\\latent_features\\data\\新零售图片数据_Trax_部分\\希宝精选鲣鱼猫粮罐头75G\\1674955998637_1_1453.5_3413.5_217.0_113.0_0.0.jpg true_name: 希宝精选鲣鱼猫粮罐头75G pred_name: 希宝金罐鸡肉及胡萝卜青豆罐头85G freq: 2\n",
      "img_path: E:\\workspaces\\2_temp_projects\\RealMan_AI_Lab\\Recognize-Anything-Box1\\Classifer_Anything\\latent_features\\data\\新零售图片数据_Trax_部分\\希宝精选鲣鱼猫粮罐头75G\\1674955998835_0_1510.0_4301.0_212.0_190.0_0.0.jpg true_name: 希宝精选鲣鱼猫粮罐头75G pred_name: 味之素魔厨高汤复合调味料150G freq: 3\n",
      "img_path: E:\\workspaces\\2_temp_projects\\RealMan_AI_Lab\\Recognize-Anything-Box1\\Classifer_Anything\\latent_features\\data\\新零售图片数据_Trax_部分\\希宝金罐鸡肉及胡萝卜青豆罐头85G\\1674955998637_1_1491.5_2330.0_157.0_128.0_0.0.jpg true_name: 希宝金罐鸡肉及胡萝卜青豆罐头85G pred_name: 仲景上海葱油230G freq: 1\n",
      "img_path: E:\\workspaces\\2_temp_projects\\RealMan_AI_Lab\\Recognize-Anything-Box1\\Classifer_Anything\\latent_features\\data\\新零售图片数据_Trax_部分\\希宝金罐鸡肉及胡萝卜青豆罐头85G\\1674955998835_0_1529.5_3703.5_201.0_201.0_0.0.jpg true_name: 希宝金罐鸡肉及胡萝卜青豆罐头85G pred_name: 淘大柱候酱复合调味料235G freq: 2\n",
      "img_path: E:\\workspaces\\2_temp_projects\\RealMan_AI_Lab\\Recognize-Anything-Box1\\Classifer_Anything\\latent_features\\data\\新零售图片数据_Trax_部分\\希宝金罐鸡肉及胡萝卜青豆罐头85G\\1674955998835_0_2564.5_2968.5_215.0_157.0_0.0.jpg true_name: 希宝金罐鸡肉及胡萝卜青豆罐头85G pred_name: 希宝精选鲣鱼猫粮罐头75G freq: 3\n",
      "img_path: E:\\workspaces\\2_temp_projects\\RealMan_AI_Lab\\Recognize-Anything-Box1\\Classifer_Anything\\latent_features\\data\\新零售图片数据_Trax_部分\\希宝金罐鸡肉及胡萝卜青豆罐头85G\\1674956008523_1_769.5_1693.5_191.0_79.0_0.0.jpg true_name: 希宝金罐鸡肉及胡萝卜青豆罐头85G pred_name: 兆字芝麻酱200G freq: 2\n",
      "img_path: E:\\workspaces\\2_temp_projects\\RealMan_AI_Lab\\Recognize-Anything-Box1\\Classifer_Anything\\latent_features\\data\\新零售图片数据_Trax_部分\\希宝金罐鸡肉及胡萝卜青豆罐头85G\\1674956008662_3_834.0_876.5_202.0_135.0_0.0.jpg true_name: 希宝金罐鸡肉及胡萝卜青豆罐头85G pred_name: 希宝精选鲣鱼猫粮罐头75G freq: 2\n",
      "img_path: E:\\workspaces\\2_temp_projects\\RealMan_AI_Lab\\Recognize-Anything-Box1\\Classifer_Anything\\latent_features\\data\\新零售图片数据_Trax_部分\\我的年轻味道花果茶水蜜桃味125G\\1674952718180_2_1163.0_3548.0_230.0_678.0_0.0.jpg true_name: 我的年轻味道花果茶水蜜桃味125G pred_name: 味之素魔厨高汤复合调味料150G freq: 1\n",
      "img_path: E:\\workspaces\\2_temp_projects\\RealMan_AI_Lab\\Recognize-Anything-Box1\\Classifer_Anything\\latent_features\\data\\新零售图片数据_Trax_部分\\淘大头道鲜生抽500ML\\1674953118606_1_3375.0_3741.5_230.0_953.0_0.0.jpg true_name: 淘大头道鲜生抽500ML pred_name: 味之素魔厨高汤复合调味料150G freq: 1\n",
      "img_path: E:\\workspaces\\2_temp_projects\\RealMan_AI_Lab\\Recognize-Anything-Box1\\Classifer_Anything\\latent_features\\data\\新零售图片数据_Trax_部分\\淘大柱候酱复合调味料235G\\1674952677676_1_3019.0_2229.5_210.0_167.0_0.0.jpg true_name: 淘大柱候酱复合调味料235G pred_name: 兆字芝麻酱200G freq: 2\n",
      "img_path: E:\\workspaces\\2_temp_projects\\RealMan_AI_Lab\\Recognize-Anything-Box1\\Classifer_Anything\\latent_features\\data\\新零售图片数据_Trax_部分\\淘大柱候酱复合调味料235G\\1674952688758_0_1451.5_3337.5_191.0_217.0_0.0.jpg true_name: 淘大柱候酱复合调味料235G pred_name: 嗡嗡乐枇杷蜂蜜500G freq: 2\n",
      "img_path: E:\\workspaces\\2_temp_projects\\RealMan_AI_Lab\\Recognize-Anything-Box1\\Classifer_Anything\\latent_features\\data\\新零售图片数据_Trax_部分\\淘大柱候酱复合调味料235G\\1674952698258_1_345.0_2229.5_192.0_151.0_0.0.jpg true_name: 淘大柱候酱复合调味料235G pred_name: 兆字芝麻酱200G freq: 2\n",
      "correct_count: 357 total_count: 387 accuracy: 0.9224806201550387\n"
     ]
    }
   ],
   "source": [
    "base_images=os.getcwd()\n",
    "img_path = os.path.join(base_images,\"data\",\"新零售图片数据_Trax_部分\")\n",
    "img_paths=get_image_path(img_path)\n",
    "correct_count = 0\n",
    "total_count = 0\n",
    "for img_path in img_paths:\n",
    "    image = Image.open(img_path)\n",
    "    start_time = time.time()\n",
    "    img_path, D, filenames = image_search(image, k=4)\n",
    "    temp_filenames=filenames[0]\n",
    "    true_name=filenames[0][0]\n",
    "    temp_filenames.pop(0)\n",
    "    total_count=total_count+1\n",
    "    pred_name, freq = most_frequent_element(temp_filenames)\n",
    "    #print(\"true_name:\",true_name,\"pred_name:\",pred_name,\"freq:\",freq)\n",
    "    if true_name == pred_name:\n",
    "        correct_count = correct_count + 1\n",
    "    else:\n",
    "        print(\"img_path:\", img_path, \"true_name:\", true_name, \"pred_name:\", pred_name, \"freq:\", freq)\n",
    "\n",
    "print(\"correct_count:\",correct_count,\"total_count:\",total_count,\"accuracy:\",correct_count/total_count)\n",
    "\n"
   ]
  },
  {
   "cell_type": "code",
   "execution_count": null,
   "id": "7ad6ff41-f641-477c-8b71-33d36f25b1bd",
   "metadata": {},
   "outputs": [],
   "source": []
  }
 ],
 "metadata": {
  "kernelspec": {
   "display_name": "Python 3 (ipykernel)",
   "language": "python",
   "name": "python3"
  },
  "language_info": {
   "codemirror_mode": {
    "name": "ipython",
    "version": 3
   },
   "file_extension": ".py",
   "mimetype": "text/x-python",
   "name": "python",
   "nbconvert_exporter": "python",
   "pygments_lexer": "ipython3",
   "version": "3.10.14"
  }
 },
 "nbformat": 4,
 "nbformat_minor": 5
}
